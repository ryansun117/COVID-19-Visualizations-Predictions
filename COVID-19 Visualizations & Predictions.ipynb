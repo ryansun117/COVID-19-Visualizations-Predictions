{
 "cells": [
  {
   "cell_type": "markdown",
   "metadata": {},
   "source": [
    "# COVID-19 Visualization & Prediction  \n",
    "\n",
    "   Coronavirus Case Data is provided by <a href='https://github.com/CSSEGISandData/COVID-19'>Johns Hopkins University</a>\n",
    "   \n",
    "* <a href='#world_wide_graphs'>Exploring Global Coronavirus Cases</a>\n",
    "* <a href='#country_graphs'>Exploring Coronavirus Cases From Different Countries</a>\n",
    "* <a href='#prediction'>Worldwide Confirmed Cases Prediction</a>\n",
    "* <a href='#data_table'>Data Table</a>\n",
    "* <a href='#pie_charts'>Pie Charts</a>\n",
    "* <a href='#bar_charts'>Bar Charts</a>\n",
    "* <a href='#hospital_testing'>US Testing Data</a>\n",
    "* <a href='#mobility_data'>Mobility Data for Hotspots</a>"
   ]
  },
  {
   "cell_type": "code",
   "execution_count": null,
   "metadata": {
    "_cell_guid": "b1076dfc-b9ad-4769-8c92-a6c4dae69d19",
    "_kg_hide-input": true,
    "_kg_hide-output": true,
    "_uuid": "8f2839f25d086af736a60e9eeb907d3b93b6e0e5",
    "execution": {
     "iopub.execute_input": "2021-06-10T12:24:55.086105Z",
     "iopub.status.busy": "2021-06-10T12:24:55.085699Z",
     "iopub.status.idle": "2021-06-10T12:24:55.101028Z",
     "shell.execute_reply": "2021-06-10T12:24:55.099984Z",
     "shell.execute_reply.started": "2021-06-10T12:24:55.086042Z"
    }
   },
   "outputs": [],
   "source": [
    "import numpy as np \n",
    "import matplotlib.pyplot as plt \n",
    "import matplotlib.colors as mcolors\n",
    "import pandas as pd \n",
    "import random\n",
    "import math\n",
    "import time\n",
    "from sklearn.linear_model import LinearRegression, BayesianRidge\n",
    "from sklearn.model_selection import RandomizedSearchCV, train_test_split\n",
    "from sklearn.preprocessing import PolynomialFeatures\n",
    "from sklearn.svm import SVR\n",
    "from sklearn.metrics import mean_squared_error, mean_absolute_error\n",
    "import datetime\n",
    "import operator \n",
    "plt.style.use('fivethirtyeight')\n",
    "%matplotlib inline\n",
    "from IPython.display import set_matplotlib_formats\n",
    "set_matplotlib_formats('retina')\n",
    "import warnings\n",
    "warnings.filterwarnings(\"ignore\")"
   ]
  },
  {
   "cell_type": "markdown",
   "metadata": {},
   "source": [
    "Import the data (make sure you update this on a daily basis)"
   ]
  },
  {
   "cell_type": "code",
   "execution_count": null,
   "metadata": {
    "_cell_guid": "",
    "_kg_hide-input": true,
    "_kg_hide-output": true,
    "_uuid": "",
    "execution": {
     "iopub.execute_input": "2021-06-10T12:24:55.103737Z",
     "iopub.status.busy": "2021-06-10T12:24:55.103159Z",
     "iopub.status.idle": "2021-06-10T12:25:15.189399Z",
     "shell.execute_reply": "2021-06-10T12:25:15.181343Z",
     "shell.execute_reply.started": "2021-06-10T12:24:55.103665Z"
    }
   },
   "outputs": [],
   "source": [
    "confirmed_df = pd.read_csv('https://raw.githubusercontent.com/CSSEGISandData/COVID-19/master/csse_covid_19_data/csse_covid_19_time_series/time_series_covid19_confirmed_global.csv')\n",
    "deaths_df = pd.read_csv('https://raw.githubusercontent.com/CSSEGISandData/COVID-19/master/csse_covid_19_data/csse_covid_19_time_series/time_series_covid19_deaths_global.csv')\n",
    "# recoveries_df = pd.read_csv('https://raw.githubusercontent.com/CSSEGISandData/COVID-19/master/csse_covid_19_data/csse_covid_19_time_series/time_series_covid19_recovered_global.csv')\n",
    "latest_data = pd.read_csv('https://raw.githubusercontent.com/CSSEGISandData/COVID-19/master/csse_covid_19_data/csse_covid_19_daily_reports/06-08-2021.csv')\n",
    "us_medical_data = pd.read_csv('https://raw.githubusercontent.com/CSSEGISandData/COVID-19/master/csse_covid_19_data/csse_covid_19_daily_reports_us/06-08-2021.csv')\n",
    "apple_mobility = pd.read_csv(\"https://covid19-static.cdn-apple.com/covid19-mobility-data/2109HotfixDev20/v3/en-us/applemobilitytrends-2021-06-08.csv\")"
   ]
  },
  {
   "cell_type": "code",
   "execution_count": null,
   "metadata": {
    "_kg_hide-input": true,
    "_kg_hide-output": true,
    "execution": {
     "iopub.status.busy": "2021-06-10T12:25:15.1909Z",
     "iopub.status.idle": "2021-06-10T12:25:15.191654Z"
    }
   },
   "outputs": [],
   "source": [
    "latest_data.head()"
   ]
  },
  {
   "cell_type": "code",
   "execution_count": null,
   "metadata": {
    "_kg_hide-input": true,
    "_kg_hide-output": true,
    "execution": {
     "iopub.status.busy": "2021-06-10T12:25:15.193067Z",
     "iopub.status.idle": "2021-06-10T12:25:15.193816Z"
    }
   },
   "outputs": [],
   "source": [
    "confirmed_df.head()"
   ]
  },
  {
   "cell_type": "code",
   "execution_count": null,
   "metadata": {
    "_kg_hide-input": true,
    "_kg_hide-output": true,
    "execution": {
     "iopub.status.busy": "2021-06-10T12:25:15.195125Z",
     "iopub.status.idle": "2021-06-10T12:25:15.19582Z"
    }
   },
   "outputs": [],
   "source": [
    "us_medical_data.head()"
   ]
  },
  {
   "cell_type": "code",
   "execution_count": null,
   "metadata": {
    "_kg_hide-input": true,
    "_kg_hide-output": true,
    "execution": {
     "iopub.status.busy": "2021-06-10T12:25:15.197151Z",
     "iopub.status.idle": "2021-06-10T12:25:15.197862Z"
    }
   },
   "outputs": [],
   "source": [
    "cols = confirmed_df.keys()"
   ]
  },
  {
   "cell_type": "markdown",
   "metadata": {},
   "source": [
    "\n",
    "Get all the dates for the ongoing coronavirus pandemic "
   ]
  },
  {
   "cell_type": "code",
   "execution_count": null,
   "metadata": {
    "_kg_hide-input": true,
    "_kg_hide-output": true,
    "execution": {
     "iopub.status.busy": "2021-06-10T12:25:15.198968Z",
     "iopub.status.idle": "2021-06-10T12:25:15.199412Z"
    }
   },
   "outputs": [],
   "source": [
    "confirmed = confirmed_df.loc[:, cols[4]:cols[-1]]\n",
    "deaths = deaths_df.loc[:, cols[4]:cols[-1]]\n",
    "# recoveries = recoveries_df.loc[:, cols[4]:cols[-1]]"
   ]
  },
  {
   "cell_type": "code",
   "execution_count": null,
   "metadata": {
    "_kg_hide-input": true,
    "_kg_hide-output": true,
    "execution": {
     "iopub.status.busy": "2021-06-10T12:25:15.200251Z",
     "iopub.status.idle": "2021-06-10T12:25:15.200705Z"
    }
   },
   "outputs": [],
   "source": [
    "dates = confirmed.keys()\n",
    "world_cases = []\n",
    "total_deaths = [] \n",
    "mortality_rate = []\n",
    "# recovery_rate = [] \n",
    "# total_recovered = [] \n",
    "# total_active = [] \n",
    "\n",
    "for i in dates:\n",
    "    confirmed_sum = confirmed[i].sum()\n",
    "    death_sum = deaths[i].sum()\n",
    "#     recovered_sum = recoveries[i].sum()\n",
    "    \n",
    "    # confirmed, deaths, recovered, and active\n",
    "    world_cases.append(confirmed_sum)\n",
    "    total_deaths.append(death_sum)\n",
    "#     total_recovered.append(recovered_sum)\n",
    "#     total_active.append(confirmed_sum-death_sum-recovered_sum)\n",
    "    \n",
    "    # calculate rates\n",
    "    mortality_rate.append(death_sum/confirmed_sum)\n",
    "#     recovery_rate.append(recovered_sum/confirmed_sum)"
   ]
  },
  {
   "cell_type": "markdown",
   "metadata": {},
   "source": [
    "Getting daily increases and moving averages"
   ]
  },
  {
   "cell_type": "code",
   "execution_count": null,
   "metadata": {
    "_kg_hide-input": true,
    "_kg_hide-output": true,
    "execution": {
     "iopub.status.busy": "2021-06-10T12:25:15.201526Z",
     "iopub.status.idle": "2021-06-10T12:25:15.201952Z"
    }
   },
   "outputs": [],
   "source": [
    "def daily_increase(data):\n",
    "    d = [] \n",
    "    for i in range(len(data)):\n",
    "        if i == 0:\n",
    "            d.append(data[0])\n",
    "        else:\n",
    "            d.append(data[i]-data[i-1])\n",
    "    return d \n",
    "\n",
    "def moving_average(data, window_size):\n",
    "    moving_average = []\n",
    "    for i in range(len(data)):\n",
    "        if i + window_size < len(data):\n",
    "            moving_average.append(np.mean(data[i:i+window_size]))\n",
    "        else:\n",
    "            moving_average.append(np.mean(data[i:len(data)]))\n",
    "    return moving_average\n",
    "\n",
    "# window size\n",
    "window = 7\n",
    "\n",
    "# confirmed cases\n",
    "world_daily_increase = daily_increase(world_cases)\n",
    "world_confirmed_avg= moving_average(world_cases, window)\n",
    "world_daily_increase_avg = moving_average(world_daily_increase, window)\n",
    "\n",
    "# deaths\n",
    "world_daily_death = daily_increase(total_deaths)\n",
    "world_death_avg = moving_average(total_deaths, window)\n",
    "world_daily_death_avg = moving_average(world_daily_death, window)\n",
    "\n",
    "\n",
    "# recoveries\n",
    "# world_daily_recovery = daily_increase(total_recovered)\n",
    "# world_recovery_avg = moving_average(total_recovered, window)\n",
    "# world_daily_recovery_avg = moving_average(world_daily_recovery, window)\n",
    "\n",
    "\n",
    "# active \n",
    "# world_active_avg = moving_average(total_active, window)"
   ]
  },
  {
   "cell_type": "code",
   "execution_count": null,
   "metadata": {
    "_kg_hide-input": true,
    "_kg_hide-output": true,
    "execution": {
     "iopub.status.busy": "2021-06-10T12:25:15.202788Z",
     "iopub.status.idle": "2021-06-10T12:25:15.203237Z"
    }
   },
   "outputs": [],
   "source": [
    "days_since_1_22 = np.array([i for i in range(len(dates))]).reshape(-1, 1)\n",
    "world_cases = np.array(world_cases).reshape(-1, 1)\n",
    "total_deaths = np.array(total_deaths).reshape(-1, 1)\n",
    "# total_recovered = np.array(total_recovered).reshape(-1, 1)"
   ]
  },
  {
   "cell_type": "markdown",
   "metadata": {},
   "source": [
    "Future forcasting"
   ]
  },
  {
   "cell_type": "code",
   "execution_count": null,
   "metadata": {
    "_kg_hide-input": true,
    "_kg_hide-output": true,
    "execution": {
     "iopub.status.busy": "2021-06-10T12:25:15.204021Z",
     "iopub.status.idle": "2021-06-10T12:25:15.204463Z"
    }
   },
   "outputs": [],
   "source": [
    "days_in_future = 10\n",
    "future_forcast = np.array([i for i in range(len(dates)+days_in_future)]).reshape(-1, 1)\n",
    "adjusted_dates = future_forcast[:-10]"
   ]
  },
  {
   "cell_type": "markdown",
   "metadata": {},
   "source": [
    "Convert integer into datetime for better visualization"
   ]
  },
  {
   "cell_type": "code",
   "execution_count": null,
   "metadata": {
    "_kg_hide-input": true,
    "_kg_hide-output": true,
    "execution": {
     "iopub.status.busy": "2021-06-10T12:25:15.205247Z",
     "iopub.status.idle": "2021-06-10T12:25:15.205688Z"
    }
   },
   "outputs": [],
   "source": [
    "start = '1/22/2020'\n",
    "start_date = datetime.datetime.strptime(start, '%m/%d/%Y')\n",
    "future_forcast_dates = []\n",
    "for i in range(len(future_forcast)):\n",
    "    future_forcast_dates.append((start_date + datetime.timedelta(days=i)).strftime('%m/%d/%Y'))"
   ]
  },
  {
   "cell_type": "code",
   "execution_count": null,
   "metadata": {
    "_kg_hide-input": true,
    "_kg_hide-output": true,
    "execution": {
     "iopub.status.busy": "2021-06-10T12:25:15.206484Z",
     "iopub.status.idle": "2021-06-10T12:25:15.206929Z"
    }
   },
   "outputs": [],
   "source": [
    "# slightly modify the data to fit the model better (regression models cannot pick the pattern)\n",
    "X_train_confirmed, X_test_confirmed, y_train_confirmed, y_test_confirmed = train_test_split(days_since_1_22[50:], world_cases[50:], test_size=0.03, shuffle=False) "
   ]
  },
  {
   "cell_type": "markdown",
   "metadata": {},
   "source": [
    "Model for predicting # of confirmed cases. I am using support vector machine, bayesian ridge , and linear regression in this example. We will show the results in the later section. "
   ]
  },
  {
   "cell_type": "code",
   "execution_count": null,
   "metadata": {
    "_kg_hide-input": true,
    "_kg_hide-output": true,
    "execution": {
     "iopub.status.busy": "2021-06-10T12:25:15.207755Z",
     "iopub.status.idle": "2021-06-10T12:25:15.208171Z"
    }
   },
   "outputs": [],
   "source": [
    "# # use this to find the optimal parameters for SVR\n",
    "# c = [0.01, 0.1, 1]\n",
    "# gamma = [0.01, 0.1, 1]\n",
    "# epsilon = [0.01, 0.1, 1]\n",
    "# shrinking = [True, False]\n",
    "\n",
    "# svm_grid = {'C': c, 'gamma' : gamma, 'epsilon': epsilon, 'shrinking' : shrinking}\n",
    "\n",
    "# svm = SVR(kernel='poly', degree=3)\n",
    "# svm_search = RandomizedSearchCV(svm, svm_grid, scoring='neg_mean_squared_error', cv=3, return_train_score=True, n_jobs=-1, n_iter=30, verbose=1)\n",
    "# svm_search.fit(X_train_confirmed, y_train_confirmed)"
   ]
  },
  {
   "cell_type": "code",
   "execution_count": null,
   "metadata": {
    "_kg_hide-input": true,
    "_kg_hide-output": true,
    "execution": {
     "iopub.status.busy": "2021-06-10T12:25:15.208984Z",
     "iopub.status.idle": "2021-06-10T12:25:15.209403Z"
    }
   },
   "outputs": [],
   "source": [
    "# svm_search.best_params_"
   ]
  },
  {
   "cell_type": "code",
   "execution_count": null,
   "metadata": {
    "_kg_hide-input": true,
    "_kg_hide-output": true,
    "execution": {
     "iopub.status.busy": "2021-06-10T12:25:15.210197Z",
     "iopub.status.idle": "2021-06-10T12:25:15.210695Z"
    }
   },
   "outputs": [],
   "source": [
    "# svm_confirmed = svm_search.best_estimator_\n",
    "svm_confirmed = SVR(shrinking=True, kernel='poly',gamma=0.01, epsilon=1,degree=3, C=0.1)\n",
    "svm_confirmed.fit(X_train_confirmed, y_train_confirmed)\n",
    "svm_pred = svm_confirmed.predict(future_forcast)"
   ]
  },
  {
   "cell_type": "code",
   "execution_count": null,
   "metadata": {
    "_kg_hide-input": true,
    "_kg_hide-output": true,
    "execution": {
     "iopub.status.busy": "2021-06-10T12:25:15.211564Z",
     "iopub.status.idle": "2021-06-10T12:25:15.212036Z"
    }
   },
   "outputs": [],
   "source": [
    "# check against testing data\n",
    "svm_test_pred = svm_confirmed.predict(X_test_confirmed)\n",
    "plt.plot(y_test_confirmed)\n",
    "plt.plot(svm_test_pred)\n",
    "plt.legend(['Test Data', 'SVM Predictions'])\n",
    "print('MAE:', mean_absolute_error(svm_test_pred, y_test_confirmed))\n",
    "print('MSE:',mean_squared_error(svm_test_pred, y_test_confirmed))"
   ]
  },
  {
   "cell_type": "code",
   "execution_count": null,
   "metadata": {
    "_kg_hide-input": true,
    "_kg_hide-output": true,
    "execution": {
     "iopub.status.busy": "2021-06-10T12:25:15.212904Z",
     "iopub.status.idle": "2021-06-10T12:25:15.213385Z"
    }
   },
   "outputs": [],
   "source": [
    "# transform our data for polynomial regression\n",
    "poly = PolynomialFeatures(degree=4)\n",
    "poly_X_train_confirmed = poly.fit_transform(X_train_confirmed)\n",
    "poly_X_test_confirmed = poly.fit_transform(X_test_confirmed)\n",
    "poly_future_forcast = poly.fit_transform(future_forcast)\n",
    "\n",
    "bayesian_poly = PolynomialFeatures(degree=5)\n",
    "bayesian_poly_X_train_confirmed = bayesian_poly.fit_transform(X_train_confirmed)\n",
    "bayesian_poly_X_test_confirmed = bayesian_poly.fit_transform(X_test_confirmed)\n",
    "bayesian_poly_future_forcast = bayesian_poly.fit_transform(future_forcast)"
   ]
  },
  {
   "cell_type": "code",
   "execution_count": null,
   "metadata": {
    "_kg_hide-input": true,
    "_kg_hide-output": true,
    "execution": {
     "iopub.status.busy": "2021-06-10T12:25:15.214248Z",
     "iopub.status.idle": "2021-06-10T12:25:15.21479Z"
    }
   },
   "outputs": [],
   "source": [
    "# polynomial regression\n",
    "linear_model = LinearRegression(normalize=True, fit_intercept=False)\n",
    "linear_model.fit(poly_X_train_confirmed, y_train_confirmed)\n",
    "test_linear_pred = linear_model.predict(poly_X_test_confirmed)\n",
    "linear_pred = linear_model.predict(poly_future_forcast)\n",
    "print('MAE:', mean_absolute_error(test_linear_pred, y_test_confirmed))\n",
    "print('MSE:',mean_squared_error(test_linear_pred, y_test_confirmed))"
   ]
  },
  {
   "cell_type": "code",
   "execution_count": null,
   "metadata": {
    "_kg_hide-input": true,
    "_kg_hide-output": true,
    "execution": {
     "iopub.status.busy": "2021-06-10T12:25:15.215824Z",
     "iopub.status.idle": "2021-06-10T12:25:15.216336Z"
    }
   },
   "outputs": [],
   "source": [
    "print(linear_model.coef_)"
   ]
  },
  {
   "cell_type": "code",
   "execution_count": null,
   "metadata": {
    "_kg_hide-input": true,
    "_kg_hide-output": true,
    "execution": {
     "iopub.status.busy": "2021-06-10T12:25:15.217217Z",
     "iopub.status.idle": "2021-06-10T12:25:15.217713Z"
    }
   },
   "outputs": [],
   "source": [
    "plt.plot(y_test_confirmed)\n",
    "plt.plot(test_linear_pred)\n",
    "plt.legend(['Test Data', 'Polynomial Regression Predictions'])"
   ]
  },
  {
   "cell_type": "code",
   "execution_count": null,
   "metadata": {
    "_kg_hide-input": true,
    "_kg_hide-output": true,
    "execution": {
     "iopub.status.busy": "2021-06-10T12:25:15.218619Z",
     "iopub.status.idle": "2021-06-10T12:25:15.219082Z"
    }
   },
   "outputs": [],
   "source": [
    "# bayesian ridge polynomial regression\n",
    "tol = [1e-6, 1e-5, 1e-4, 1e-3, 1e-2]\n",
    "alpha_1 = [1e-7, 1e-6, 1e-5, 1e-4, 1e-3]\n",
    "alpha_2 = [1e-7, 1e-6, 1e-5, 1e-4, 1e-3]\n",
    "lambda_1 = [1e-7, 1e-6, 1e-5, 1e-4, 1e-3]\n",
    "lambda_2 = [1e-7, 1e-6, 1e-5, 1e-4, 1e-3]\n",
    "normalize = [True, False]\n",
    "\n",
    "bayesian_grid = {'tol': tol, 'alpha_1': alpha_1, 'alpha_2' : alpha_2, 'lambda_1': lambda_1, 'lambda_2' : lambda_2, \n",
    "                 'normalize' : normalize}\n",
    "\n",
    "bayesian = BayesianRidge(fit_intercept=False)\n",
    "bayesian_search = RandomizedSearchCV(bayesian, bayesian_grid, scoring='neg_mean_squared_error', cv=3, return_train_score=True, n_jobs=-1, n_iter=40, verbose=1)\n",
    "bayesian_search.fit(bayesian_poly_X_train_confirmed, y_train_confirmed)"
   ]
  },
  {
   "cell_type": "code",
   "execution_count": null,
   "metadata": {
    "_kg_hide-input": true,
    "_kg_hide-output": true,
    "execution": {
     "iopub.status.busy": "2021-06-10T12:25:15.21994Z",
     "iopub.status.idle": "2021-06-10T12:25:15.220413Z"
    }
   },
   "outputs": [],
   "source": [
    "bayesian_search.best_params_"
   ]
  },
  {
   "cell_type": "code",
   "execution_count": null,
   "metadata": {
    "_kg_hide-input": true,
    "_kg_hide-output": true,
    "execution": {
     "iopub.status.busy": "2021-06-10T12:25:15.221283Z",
     "iopub.status.idle": "2021-06-10T12:25:15.221765Z"
    }
   },
   "outputs": [],
   "source": [
    "bayesian_confirmed = bayesian_search.best_estimator_\n",
    "test_bayesian_pred = bayesian_confirmed.predict(bayesian_poly_X_test_confirmed)\n",
    "bayesian_pred = bayesian_confirmed.predict(bayesian_poly_future_forcast)\n",
    "print('MAE:', mean_absolute_error(test_bayesian_pred, y_test_confirmed))\n",
    "print('MSE:',mean_squared_error(test_bayesian_pred, y_test_confirmed))"
   ]
  },
  {
   "cell_type": "code",
   "execution_count": null,
   "metadata": {
    "_kg_hide-input": true,
    "_kg_hide-output": true,
    "execution": {
     "iopub.status.busy": "2021-06-10T12:25:15.222628Z",
     "iopub.status.idle": "2021-06-10T12:25:15.223088Z"
    }
   },
   "outputs": [],
   "source": [
    "plt.plot(y_test_confirmed)\n",
    "plt.plot(test_bayesian_pred)\n",
    "plt.legend(['Test Data', 'Bayesian Ridge Polynomial Predictions'])"
   ]
  },
  {
   "cell_type": "markdown",
   "metadata": {},
   "source": [
    "# Worldwide Overview \n",
    "Graphing the number of confirmed cases, deaths, and mortality rate (CFR). This gives us a big picture of the ongoing pandemic. \n",
    " <a id='world_wide_graphs'></a>"
   ]
  },
  {
   "cell_type": "code",
   "execution_count": null,
   "metadata": {
    "_kg_hide-input": true,
    "_kg_hide-output": true,
    "execution": {
     "iopub.status.busy": "2021-06-10T12:25:15.22395Z",
     "iopub.status.idle": "2021-06-10T12:25:15.224417Z"
    }
   },
   "outputs": [],
   "source": [
    "# helper method for flattening the data, so it can be displayed on a bar graph \n",
    "def flatten(arr):\n",
    "    a = [] \n",
    "    arr = arr.tolist()\n",
    "    for i in arr:\n",
    "        a.append(i[0])\n",
    "    return a"
   ]
  },
  {
   "cell_type": "code",
   "execution_count": null,
   "metadata": {
    "_kg_hide-input": true,
    "_kg_hide-output": false,
    "execution": {
     "iopub.status.busy": "2021-06-10T12:25:15.22529Z",
     "iopub.status.idle": "2021-06-10T12:25:15.225776Z"
    }
   },
   "outputs": [],
   "source": [
    "adjusted_dates = adjusted_dates.reshape(1, -1)[0]\n",
    "plt.figure(figsize=(16, 10))\n",
    "plt.plot(adjusted_dates, world_cases)\n",
    "plt.plot(adjusted_dates, world_confirmed_avg, linestyle='dashed', color='orange')\n",
    "plt.title('# of Coronavirus Cases Over Time', size=30)\n",
    "plt.xlabel('Days Since 1/22/2020', size=30)\n",
    "plt.ylabel('# of Cases', size=30)\n",
    "plt.legend(['Worldwide Coronavirus Cases', 'Moving Average {} Days'.format(window)], prop={'size': 20})\n",
    "plt.xticks(size=20)\n",
    "plt.yticks(size=20)\n",
    "plt.show()\n",
    "\n",
    "plt.figure(figsize=(16, 10))\n",
    "plt.plot(adjusted_dates, total_deaths)\n",
    "plt.plot(adjusted_dates, world_death_avg, linestyle='dashed', color='orange')\n",
    "plt.title('# of Coronavirus Deaths Over Time', size=30)\n",
    "plt.xlabel('Days Since 1/22/2020', size=30)\n",
    "plt.ylabel('# of Cases', size=30)\n",
    "plt.legend(['Worldwide Coronavirus Deaths', 'Moving Average {} Days'.format(window)], prop={'size': 20})\n",
    "plt.xticks(size=20)\n",
    "plt.yticks(size=20)\n",
    "plt.show()\n",
    "\n",
    "# plt.figure(figsize=(16, 10))\n",
    "# plt.plot(adjusted_dates, total_recovered)\n",
    "# plt.plot(adjusted_dates, world_recovery_avg, linestyle='dashed', color='orange')\n",
    "# plt.title('# of Coronavirus Recoveries Over Time', size=30)\n",
    "# plt.xlabel('Days Since 1/22/2020', size=30)\n",
    "# plt.ylabel('# of Cases', size=30)\n",
    "# plt.legend(['Worldwide Coronavirus Recoveries', 'Moving Average {} Days'.format(window)], prop={'size': 20})\n",
    "# plt.xticks(size=20)\n",
    "# plt.yticks(size=20)\n",
    "# plt.show()\n",
    "\n",
    "# plt.figure(figsize=(16, 10))\n",
    "# plt.plot(adjusted_dates, total_active)\n",
    "# plt.plot(adjusted_dates, world_active_avg, linestyle='dashed', color='orange')\n",
    "# plt.title('# of Coronavirus Active Cases Over Time', size=30)\n",
    "# plt.xlabel('Days Since 1/22/2020', size=30)\n",
    "# plt.ylabel('# of Active Cases', size=30)\n",
    "# plt.legend(['Worldwide Coronavirus Active Cases', 'Moving Average {} Days'.format(window)], prop={'size': 20})\n",
    "# plt.xticks(size=20)\n",
    "# plt.yticks(size=20)\n",
    "# plt.show()"
   ]
  },
  {
   "cell_type": "code",
   "execution_count": null,
   "metadata": {
    "_kg_hide-input": true,
    "execution": {
     "iopub.status.busy": "2021-06-10T12:25:15.22672Z",
     "iopub.status.idle": "2021-06-10T12:25:15.227244Z"
    }
   },
   "outputs": [],
   "source": [
    "plt.figure(figsize=(16, 10))\n",
    "plt.bar(adjusted_dates, world_daily_increase)\n",
    "plt.plot(adjusted_dates, world_daily_increase_avg, color='orange', linestyle='dashed')\n",
    "plt.title('World Daily Increases in Confirmed Cases', size=30)\n",
    "plt.xlabel('Days Since 1/22/2020', size=30)\n",
    "plt.ylabel('# of Cases', size=30)\n",
    "plt.legend(['Moving Average {} Days'.format(window), 'World Daily Increase in COVID-19 Cases'], prop={'size': 20})\n",
    "plt.xticks(size=20)\n",
    "plt.yticks(size=20)\n",
    "plt.show()\n",
    "\n",
    "plt.figure(figsize=(16, 10))\n",
    "plt.bar(adjusted_dates, world_daily_death)\n",
    "plt.plot(adjusted_dates, world_daily_death_avg, color='orange', linestyle='dashed')\n",
    "plt.title('World Daily Increases in Confirmed Deaths', size=30)\n",
    "plt.xlabel('Days Since 1/22/2020', size=30)\n",
    "plt.ylabel('# of Cases', size=30)\n",
    "plt.legend(['Moving Average {} Days'.format(window), 'World Daily Increase in COVID-19 Deaths'], prop={'size': 20})\n",
    "plt.xticks(size=20)\n",
    "plt.yticks(size=20)\n",
    "plt.show()\n",
    "\n",
    "# plt.figure(figsize=(16, 10))\n",
    "# plt.bar(adjusted_dates, world_daily_recovery)\n",
    "# plt.plot(adjusted_dates, world_daily_recovery_avg, color='orange', linestyle='dashed')\n",
    "# plt.title('World Daily Increases in Confirmed Recoveries', size=30)\n",
    "# plt.xlabel('Days Since 1/22/2020', size=30)\n",
    "# plt.ylabel('# of Cases', size=30)\n",
    "# plt.legend(['Moving Average {} Days'.format(window), 'World Daily Increase in COVID-19 Recoveries'], prop={'size': 20})\n",
    "# plt.xticks(size=20)\n",
    "# plt.yticks(size=20)\n",
    "# plt.show()"
   ]
  },
  {
   "cell_type": "code",
   "execution_count": null,
   "metadata": {
    "_kg_hide-input": true,
    "execution": {
     "iopub.status.busy": "2021-06-10T12:25:15.228164Z",
     "iopub.status.idle": "2021-06-10T12:25:15.22869Z"
    }
   },
   "outputs": [],
   "source": [
    "plt.figure(figsize=(16, 10))\n",
    "plt.plot(adjusted_dates, np.log10(world_cases))\n",
    "plt.title('Log of # of Coronavirus Cases Over Time', size=30)\n",
    "plt.xlabel('Days Since 1/22/2020', size=30)\n",
    "plt.ylabel('# of Cases', size=30)\n",
    "plt.xticks(size=20)\n",
    "plt.yticks(size=20)\n",
    "plt.show()\n",
    "\n",
    "plt.figure(figsize=(16, 10))\n",
    "plt.plot(adjusted_dates, np.log10(total_deaths))\n",
    "plt.title('Log of # of Coronavirus Deaths Over Time', size=30)\n",
    "plt.xlabel('Days Since 1/22/2020', size=30)\n",
    "plt.ylabel('# of Cases', size=30)\n",
    "plt.xticks(size=20)\n",
    "plt.yticks(size=20)\n",
    "plt.show()\n",
    "\n",
    "# plt.figure(figsize=(16, 10))\n",
    "# plt.plot(adjusted_dates, np.log10(total_recovered))\n",
    "# plt.title('Log of # of Coronavirus Recoveries Over Time', size=30)\n",
    "# plt.xlabel('Days Since 1/22/2020', size=30)\n",
    "# plt.ylabel('# of Cases', size=30)\n",
    "# plt.xticks(size=20)\n",
    "# plt.yticks(size=20)\n",
    "# plt.show()"
   ]
  },
  {
   "cell_type": "code",
   "execution_count": null,
   "metadata": {
    "_kg_hide-input": true,
    "_kg_hide-output": true,
    "execution": {
     "iopub.status.busy": "2021-06-10T12:25:15.229632Z",
     "iopub.status.idle": "2021-06-10T12:25:15.230127Z"
    }
   },
   "outputs": [],
   "source": [
    "def country_plot(x, y1, y2, y3, country):\n",
    "    # window is set as 14 in in the beginning of the notebook \n",
    "    confirmed_avg = moving_average(y1, window)\n",
    "    confirmed_increase_avg = moving_average(y2, window)\n",
    "    death_increase_avg = moving_average(y3, window)\n",
    "#     recovery_increase_avg = moving_average(y4, window)\n",
    "    \n",
    "    plt.figure(figsize=(16, 10))\n",
    "    plt.plot(x, y1)\n",
    "    plt.plot(x, confirmed_avg, color='red', linestyle='dashed')\n",
    "    plt.legend(['{} Confirmed Cases'.format(country), 'Moving Average {} Days'.format(window)], prop={'size': 20})\n",
    "    plt.title('{} Confirmed Cases'.format(country), size=30)\n",
    "    plt.xlabel('Days Since 1/22/2020', size=30)\n",
    "    plt.ylabel('# of Cases', size=30)\n",
    "    plt.xticks(size=20)\n",
    "    plt.yticks(size=20)\n",
    "    plt.show()\n",
    "\n",
    "    plt.figure(figsize=(16, 10))\n",
    "    plt.bar(x, y2)\n",
    "    plt.plot(x, confirmed_increase_avg, color='red', linestyle='dashed')\n",
    "    plt.legend(['Moving Average {} Days'.format(window), '{} Daily Increase in Confirmed Cases'.format(country)], prop={'size': 20})\n",
    "    plt.title('{} Daily Increases in Confirmed Cases'.format(country), size=30)\n",
    "    plt.xlabel('Days Since 1/22/2020', size=30)\n",
    "    plt.ylabel('# of Cases', size=30)\n",
    "    plt.xticks(size=20)\n",
    "    plt.yticks(size=20)\n",
    "    plt.show()\n",
    "\n",
    "    plt.figure(figsize=(16, 10))\n",
    "    plt.bar(x, y3)\n",
    "    plt.plot(x, death_increase_avg, color='red', linestyle='dashed')\n",
    "    plt.legend(['Moving Average {} Days'.format(window), '{} Daily Increase in Confirmed Deaths'.format(country)], prop={'size': 20})\n",
    "    plt.title('{} Daily Increases in Deaths'.format(country), size=30)\n",
    "    plt.xlabel('Days Since 1/22/2020', size=30)\n",
    "    plt.ylabel('# of Cases', size=30)\n",
    "    plt.xticks(size=20)\n",
    "    plt.yticks(size=20)\n",
    "    plt.show()\n",
    "\n",
    "#     plt.figure(figsize=(16, 10))\n",
    "#     plt.bar(x, y4)\n",
    "#     plt.plot(x, recovery_increase_avg, color='red', linestyle='dashed')\n",
    "#     plt.legend(['Moving Average {} Days'.format(window), '{} Daily Increase in Confirmed Recoveries'.format(country)], prop={'size': 20})\n",
    "#     plt.title('{} Daily Increases in Recoveries'.format(country), size=30)\n",
    "#     plt.xlabel('Days Since 1/22/2020', size=30)\n",
    "#     plt.ylabel('# of Cases', size=30)\n",
    "#     plt.xticks(size=20)\n",
    "#     plt.yticks(size=20)\n",
    "#     plt.show()\n",
    "      \n",
    "# helper function for getting country's cases, deaths, and recoveries        \n",
    "def get_country_info(country_name):\n",
    "    country_cases = []\n",
    "    country_deaths = []\n",
    "#     country_recoveries = []  \n",
    "    \n",
    "    for i in dates:\n",
    "        country_cases.append(confirmed_df[confirmed_df['Country/Region']==country_name][i].sum())\n",
    "        country_deaths.append(deaths_df[deaths_df['Country/Region']==country_name][i].sum())\n",
    "#         country_recoveries.append(recoveries_df[recoveries_df['Country/Region']==country_name][i].sum())\n",
    "    return (country_cases, country_deaths)\n",
    "    \n",
    "    \n",
    "def country_visualizations(country_name):\n",
    "    country_info = get_country_info(country_name)\n",
    "    country_cases = country_info[0]\n",
    "    country_deaths = country_info[1]\n",
    "    \n",
    "    country_daily_increase = daily_increase(country_cases)\n",
    "    country_daily_death = daily_increase(country_deaths)\n",
    "#     country_daily_recovery = daily_increase(country_recoveries)\n",
    "    \n",
    "    country_plot(adjusted_dates, country_cases, country_daily_increase, country_daily_death, country_name)\n",
    "    "
   ]
  },
  {
   "cell_type": "markdown",
   "metadata": {},
   "source": [
    "# Country Specific Graphs\n",
    "Unlike the previous section, we are taking a look at specific countries. This allows us to examine the pandemic at a local level. \n",
    "<a id='country_graphs'></a>"
   ]
  },
  {
   "cell_type": "code",
   "execution_count": null,
   "metadata": {
    "_kg_hide-input": true,
    "execution": {
     "iopub.status.busy": "2021-06-10T12:25:15.231045Z",
     "iopub.status.idle": "2021-06-10T12:25:15.231587Z"
    }
   },
   "outputs": [],
   "source": [
    "countries = ['US', 'Russia', 'India', 'Brazil', 'South Africa', 'China', 'Italy',\n",
    "             'Germany', 'Spain', 'France', 'United Kingdom', 'Peru', 'Mexico', 'Colombia', 'Argentina', 'Saudi Arabia', 'Iran', 'Bangladesh',\n",
    "            'Pakistan', 'Turkey', 'Philippines', 'Iraq', 'Indonesia', 'Israel', 'Ukraine', 'Ecuador', 'Bolivia', 'Netherlands', 'Belgium', 'Poland', 'Czechia', 'Switzerland',\n",
    "            'Romania', 'Morocco','Portugal', 'Austria', 'Sweden'] \n",
    "\n",
    "for country in countries:\n",
    "    country_visualizations(country)"
   ]
  },
  {
   "cell_type": "code",
   "execution_count": null,
   "metadata": {
    "_kg_hide-input": true,
    "execution": {
     "iopub.status.busy": "2021-06-10T12:25:15.232513Z",
     "iopub.status.idle": "2021-06-10T12:25:15.233007Z"
    }
   },
   "outputs": [],
   "source": [
    "# Country Comparison\n",
    "# removed redundant code\n",
    "\n",
    "compare_countries = ['India', 'US', 'Brazil', 'Russia', 'United Kingdom', 'France'] \n",
    "graph_name = ['Coronavirus Confirmed Cases', 'Coronavirus Confirmed Deaths']\n",
    "\n",
    "for num in range(2):\n",
    "    plt.figure(figsize=(16, 10))\n",
    "    for country in compare_countries:\n",
    "        plt.plot(get_country_info(country)[num])\n",
    "    plt.legend(compare_countries, prop={'size': 20})\n",
    "    plt.xlabel('Days since 3/1', size=30)\n",
    "    plt.ylabel('# of Cases', size=30)\n",
    "    plt.title(graph_name[num], size=30)\n",
    "    plt.xticks(size=20)\n",
    "    plt.yticks(size=20)\n",
    "    plt.show()"
   ]
  },
  {
   "cell_type": "code",
   "execution_count": null,
   "metadata": {
    "_kg_hide-input": true,
    "_kg_hide-output": true,
    "execution": {
     "iopub.status.busy": "2021-06-10T12:25:15.233951Z",
     "iopub.status.idle": "2021-06-10T12:25:15.234486Z"
    }
   },
   "outputs": [],
   "source": [
    "def plot_predictions(x, y, pred, algo_name, color):\n",
    "    plt.figure(figsize=(16, 10))\n",
    "    plt.plot(x, y)\n",
    "    plt.plot(future_forcast, pred, linestyle='dashed', color=color)\n",
    "    plt.title('Worldwide Coronavirus Cases Over Time', size=30)\n",
    "    plt.xlabel('Days Since 1/22/2020', size=30)\n",
    "    plt.ylabel('# of Cases', size=30)\n",
    "    plt.legend(['Confirmed Cases', algo_name], prop={'size': 20})\n",
    "    plt.xticks(size=20)\n",
    "    plt.yticks(size=20)\n",
    "    plt.show()"
   ]
  },
  {
   "cell_type": "markdown",
   "metadata": {},
   "source": [
    "# Predictions for confirmed coronavirus cases worldwide\n",
    "These three models predict future covid cases on a global level. \n",
    "\n",
    "The prediction models include \n",
    "* Support Vector Machine \n",
    "* Polynomial Regression \n",
    "* Bayesian Ridge Regression \n",
    "\n",
    "<a id='prediction'></a>"
   ]
  },
  {
   "cell_type": "code",
   "execution_count": null,
   "metadata": {
    "_kg_hide-input": true,
    "_kg_hide-output": false,
    "execution": {
     "iopub.status.busy": "2021-06-10T12:25:15.235389Z",
     "iopub.status.idle": "2021-06-10T12:25:15.235919Z"
    }
   },
   "outputs": [],
   "source": [
    "plot_predictions(adjusted_dates, world_cases, svm_pred, 'SVM Predictions', 'purple')"
   ]
  },
  {
   "cell_type": "code",
   "execution_count": null,
   "metadata": {
    "_kg_hide-input": true,
    "execution": {
     "iopub.status.busy": "2021-06-10T12:25:15.236817Z",
     "iopub.status.idle": "2021-06-10T12:25:15.237317Z"
    }
   },
   "outputs": [],
   "source": [
    "plot_predictions(adjusted_dates, world_cases, linear_pred, 'Polynomial Regression Predictions', 'orange')"
   ]
  },
  {
   "cell_type": "code",
   "execution_count": null,
   "metadata": {
    "_kg_hide-input": true,
    "_kg_hide-output": false,
    "execution": {
     "iopub.status.busy": "2021-06-10T12:25:15.238221Z",
     "iopub.status.idle": "2021-06-10T12:25:15.238747Z"
    }
   },
   "outputs": [],
   "source": [
    "plot_predictions(adjusted_dates, world_cases, bayesian_pred, 'Bayesian Ridge Regression Predictions', 'green')"
   ]
  },
  {
   "cell_type": "code",
   "execution_count": null,
   "metadata": {
    "_kg_hide-input": true,
    "execution": {
     "iopub.status.busy": "2021-06-10T12:25:15.239683Z",
     "iopub.status.idle": "2021-06-10T12:25:15.24018Z"
    }
   },
   "outputs": [],
   "source": [
    "# Future predictions using SVM \n",
    "svm_df = pd.DataFrame({'Date': future_forcast_dates[-10:], 'SVM Predicted # of Confirmed Cases Worldwide': np.round(svm_pred[-10:])})\n",
    "svm_df.style.background_gradient(cmap='Reds')"
   ]
  },
  {
   "cell_type": "code",
   "execution_count": null,
   "metadata": {
    "_kg_hide-input": true,
    "execution": {
     "iopub.status.busy": "2021-06-10T12:25:15.241091Z",
     "iopub.status.idle": "2021-06-10T12:25:15.241611Z"
    }
   },
   "outputs": [],
   "source": [
    "# Future predictions using polynomial regression\n",
    "linear_pred = linear_pred.reshape(1,-1)[0]\n",
    "linear_df = pd.DataFrame({'Date': future_forcast_dates[-10:], 'Polynomial Predicted # of Confirmed Cases Worldwide': np.round(linear_pred[-10:])})\n",
    "linear_df.style.background_gradient(cmap='Reds')"
   ]
  },
  {
   "cell_type": "code",
   "execution_count": null,
   "metadata": {
    "_kg_hide-input": true,
    "_kg_hide-output": false,
    "execution": {
     "iopub.status.busy": "2021-06-10T12:25:15.242545Z",
     "iopub.status.idle": "2021-06-10T12:25:15.243046Z"
    }
   },
   "outputs": [],
   "source": [
    "# Future predictions using Bayesian Ridge \n",
    "bayesian_df = pd.DataFrame({'Date': future_forcast_dates[-10:], 'Bayesian Ridge Predicted # of Confirmed Cases Worldwide': np.round(bayesian_pred[-10:])})\n",
    "bayesian_df.style.background_gradient(cmap='Reds')"
   ]
  },
  {
   "cell_type": "markdown",
   "metadata": {},
   "source": [
    "Mortality Rate (worldwide) **susceptible to change **"
   ]
  },
  {
   "cell_type": "code",
   "execution_count": null,
   "metadata": {
    "_kg_hide-input": true,
    "execution": {
     "iopub.status.busy": "2021-06-10T12:25:15.243965Z",
     "iopub.status.idle": "2021-06-10T12:25:15.244489Z"
    }
   },
   "outputs": [],
   "source": [
    "mean_mortality_rate = np.mean(mortality_rate)\n",
    "plt.figure(figsize=(16, 10))\n",
    "plt.plot(adjusted_dates, mortality_rate, color='orange')\n",
    "plt.axhline(y = mean_mortality_rate,linestyle='--', color='black')\n",
    "plt.title('Worldwide Mortality Rate of Coronavirus Over Time', size=30)\n",
    "plt.xlabel('Days Since 1/22/2020', size=30)\n",
    "plt.ylabel('Case Mortality Rate', size=30)\n",
    "plt.xticks(size=20)\n",
    "plt.yticks(size=20)\n",
    "plt.show()"
   ]
  },
  {
   "cell_type": "markdown",
   "metadata": {},
   "source": [
    "Recovery Rate (worldwide) **suceptible to change **"
   ]
  },
  {
   "cell_type": "code",
   "execution_count": null,
   "metadata": {
    "_kg_hide-input": true,
    "execution": {
     "iopub.status.busy": "2021-06-10T12:25:15.245532Z",
     "iopub.status.idle": "2021-06-10T12:25:15.246091Z"
    }
   },
   "outputs": [],
   "source": [
    "# mean_recovery_rate = np.mean(recovery_rate)\n",
    "# plt.figure(figsize=(16, 10))\n",
    "# plt.plot(adjusted_dates, recovery_rate, color='blue')\n",
    "# plt.title('Worldwide Recovery Rate of Coronavirus Over Time', size=30)\n",
    "# plt.xlabel('Days Since 1/22/2020', size=30)\n",
    "# plt.ylabel('Case Recovery Rate', size=30)\n",
    "# plt.xticks(size=20)\n",
    "# plt.yticks(size=20)\n",
    "# plt.show()"
   ]
  },
  {
   "cell_type": "markdown",
   "metadata": {},
   "source": [
    "Graphing deaths against recoveries"
   ]
  },
  {
   "cell_type": "code",
   "execution_count": null,
   "metadata": {
    "_kg_hide-input": true,
    "execution": {
     "iopub.status.busy": "2021-06-10T12:25:15.247096Z",
     "iopub.status.idle": "2021-06-10T12:25:15.24765Z"
    }
   },
   "outputs": [],
   "source": [
    "# plt.figure(figsize=(16, 10))\n",
    "# plt.plot(adjusted_dates, total_deaths, color='r')\n",
    "# plt.plot(adjusted_dates, total_recovered, color='green')\n",
    "# plt.legend(['death', 'recoveries'], loc='best', fontsize=25)\n",
    "# plt.title('Worldwide Coronavirus Cases', size=30)\n",
    "# plt.xlabel('Days Since 1/22/2020', size=30)\n",
    "# plt.ylabel('# of Cases', size=30)\n",
    "# plt.xticks(size=20)\n",
    "# plt.yticks(size=20)\n",
    "# plt.show()"
   ]
  },
  {
   "cell_type": "markdown",
   "metadata": {},
   "source": [
    "Plotting the number of deaths against the number of recoveries. "
   ]
  },
  {
   "cell_type": "code",
   "execution_count": null,
   "metadata": {
    "_kg_hide-input": true,
    "execution": {
     "iopub.status.busy": "2021-06-10T12:25:15.248748Z",
     "iopub.status.idle": "2021-06-10T12:25:15.249337Z"
    }
   },
   "outputs": [],
   "source": [
    "# plt.figure(figsize=(16, 10))\n",
    "# plt.plot(total_recovered, total_deaths)\n",
    "# plt.title('# of Coronavirus Deaths vs. # of Coronavirus Recoveries', size=30)\n",
    "# plt.xlabel('# of Coronavirus Recoveries', size=30)\n",
    "# plt.ylabel('# of Coronavirus Deaths', size=30)\n",
    "# plt.xticks(size=20)\n",
    "# plt.yticks(size=20)\n",
    "# plt.show()"
   ]
  },
  {
   "cell_type": "markdown",
   "metadata": {},
   "source": [
    "Getting information about **countries/regions** that have confirmed coronavirus cases"
   ]
  },
  {
   "cell_type": "code",
   "execution_count": null,
   "metadata": {
    "execution": {
     "iopub.status.busy": "2021-06-10T12:25:15.250329Z",
     "iopub.status.idle": "2021-06-10T12:25:15.25088Z"
    }
   },
   "outputs": [],
   "source": [
    "latest_data"
   ]
  },
  {
   "cell_type": "code",
   "execution_count": null,
   "metadata": {
    "_kg_hide-input": true,
    "_kg_hide-output": true,
    "execution": {
     "iopub.status.busy": "2021-06-10T12:25:15.251828Z",
     "iopub.status.idle": "2021-06-10T12:25:15.25249Z"
    }
   },
   "outputs": [],
   "source": [
    "unique_countries =  list(latest_data['Country_Region'].unique())"
   ]
  },
  {
   "cell_type": "code",
   "execution_count": null,
   "metadata": {
    "_kg_hide-input": true,
    "execution": {
     "iopub.status.busy": "2021-06-10T12:25:15.253606Z",
     "iopub.status.idle": "2021-06-10T12:25:15.254127Z"
    }
   },
   "outputs": [],
   "source": [
    "country_confirmed_cases = []\n",
    "country_death_cases = [] \n",
    "country_active_cases = []\n",
    "# country_recovery_cases = []\n",
    "country_incidence_rate = [] \n",
    "country_mortality_rate = [] \n",
    "\n",
    "no_cases = []\n",
    "for i in unique_countries:\n",
    "    cases = latest_data[latest_data['Country_Region']==i]['Confirmed'].sum()\n",
    "    if cases > 0:\n",
    "        country_confirmed_cases.append(cases)\n",
    "    else:\n",
    "        no_cases.append(i)\n",
    "        \n",
    "for i in no_cases:\n",
    "    unique_countries.remove(i)\n",
    "    \n",
    "# sort countries by the number of confirmed cases\n",
    "unique_countries = [k for k, v in sorted(zip(unique_countries, country_confirmed_cases), key=operator.itemgetter(1), reverse=True)]\n",
    "for i in range(len(unique_countries)):\n",
    "    country_confirmed_cases[i] = latest_data[latest_data['Country_Region']==unique_countries[i]]['Confirmed'].sum()\n",
    "    country_death_cases.append(latest_data[latest_data['Country_Region']==unique_countries[i]]['Deaths'].sum())\n",
    "#     country_recovery_cases.append(latest_data[latest_data['Country_Region']==unique_countries[i]]['Recovered'].sum())\n",
    "    country_active_cases.append(latest_data[latest_data['Country_Region']==unique_countries[i]]['Active'].sum())\n",
    "    country_incidence_rate.append(latest_data[latest_data['Country_Region']==unique_countries[i]]['Incident_Rate'].sum())\n",
    "    country_mortality_rate.append(country_death_cases[i]/country_confirmed_cases[i])"
   ]
  },
  {
   "cell_type": "markdown",
   "metadata": {},
   "source": [
    "# Data table\n",
    "<a id='data_table'></a>\n",
    "This shows covid data for several countries. The table includes the number of confirmed cases, deaths, active cases, incidence rate, and mortality rate. "
   ]
  },
  {
   "cell_type": "code",
   "execution_count": null,
   "metadata": {
    "_kg_hide-input": true,
    "_kg_hide-output": false,
    "execution": {
     "iopub.status.busy": "2021-06-10T12:25:15.255062Z",
     "iopub.status.idle": "2021-06-10T12:25:15.255845Z"
    }
   },
   "outputs": [],
   "source": [
    "country_df = pd.DataFrame({'Country Name': unique_countries, 'Number of Confirmed Cases': [format(int(i), ',d') for i in country_confirmed_cases],\n",
    "                          'Number of Deaths': [format(int(i), ',d') for i in country_death_cases], \n",
    "                          'Number of Active Cases' : [format(int(i), ',d') for i in country_active_cases], 'Incidence Rate' : country_incidence_rate,\n",
    "                          'Mortality Rate': country_mortality_rate})\n",
    "# number of cases per country/region\n",
    "\n",
    "country_df.style.background_gradient(cmap='Oranges')"
   ]
  },
  {
   "cell_type": "code",
   "execution_count": null,
   "metadata": {
    "_kg_hide-input": true,
    "execution": {
     "iopub.status.busy": "2021-06-10T12:25:15.256829Z",
     "iopub.status.idle": "2021-06-10T12:25:15.25733Z"
    }
   },
   "outputs": [],
   "source": [
    "unique_provinces =  list(latest_data['Province_State'].unique())"
   ]
  },
  {
   "cell_type": "markdown",
   "metadata": {},
   "source": [
    "Getting the latest information about **provinces/states** that have confirmed coronavirus cases"
   ]
  },
  {
   "cell_type": "code",
   "execution_count": null,
   "metadata": {
    "_kg_hide-input": true,
    "execution": {
     "iopub.status.busy": "2021-06-10T12:25:15.258262Z",
     "iopub.status.idle": "2021-06-10T12:25:15.258812Z"
    }
   },
   "outputs": [],
   "source": [
    "province_confirmed_cases = []\n",
    "province_country = [] \n",
    "province_death_cases = [] \n",
    "# province_recovery_cases = []\n",
    "province_active = [] \n",
    "province_incidence_rate = []\n",
    "province_mortality_rate = [] \n",
    "\n",
    "no_cases = [] \n",
    "for i in unique_provinces:\n",
    "    cases = latest_data[latest_data['Province_State']==i]['Confirmed'].sum()\n",
    "    if cases > 0:\n",
    "        province_confirmed_cases.append(cases)\n",
    "    else:\n",
    "        no_cases.append(i)\n",
    " \n",
    "# remove areas with no confirmed cases\n",
    "for i in no_cases:\n",
    "    unique_provinces.remove(i)\n",
    "    \n",
    "unique_provinces = [k for k, v in sorted(zip(unique_provinces, province_confirmed_cases), key=operator.itemgetter(1), reverse=True)]\n",
    "for i in range(len(unique_provinces)):\n",
    "    province_confirmed_cases[i] = latest_data[latest_data['Province_State']==unique_provinces[i]]['Confirmed'].sum()\n",
    "    province_country.append(latest_data[latest_data['Province_State']==unique_provinces[i]]['Country_Region'].unique()[0])\n",
    "    province_death_cases.append(latest_data[latest_data['Province_State']==unique_provinces[i]]['Deaths'].sum())\n",
    "#     province_recovery_cases.append(latest_data[latest_data['Province_State']==unique_provinces[i]]['Recovered'].sum())\n",
    "    province_active.append(latest_data[latest_data['Province_State']==unique_provinces[i]]['Active'].sum())\n",
    "    province_incidence_rate.append(latest_data[latest_data['Province_State']==unique_provinces[i]]['Incident_Rate'].sum())\n",
    "    province_mortality_rate.append(province_death_cases[i]/province_confirmed_cases[i])"
   ]
  },
  {
   "cell_type": "code",
   "execution_count": null,
   "metadata": {
    "_kg_hide-input": true,
    "execution": {
     "iopub.status.busy": "2021-06-10T12:25:15.259879Z",
     "iopub.status.idle": "2021-06-10T12:25:15.260412Z"
    }
   },
   "outputs": [],
   "source": [
    "# nan_indices = [] \n",
    "\n",
    "# # handle nan if there is any, it is usually a float: float('nan')\n",
    "\n",
    "# for i in range(len(unique_provinces)):\n",
    "#     if type(unique_provinces[i]) == float:\n",
    "#         nan_indices.append(i)\n",
    "\n",
    "# unique_provinces = list(unique_provinces)\n",
    "# province_confirmed_cases = list(province_confirmed_cases)\n",
    "\n",
    "# for i in nan_indices:\n",
    "#     unique_provinces.pop(i)\n",
    "#     province_confirmed_cases.pop(i)"
   ]
  },
  {
   "cell_type": "code",
   "execution_count": null,
   "metadata": {
    "_kg_hide-input": true,
    "execution": {
     "iopub.status.busy": "2021-06-10T12:25:15.261405Z",
     "iopub.status.idle": "2021-06-10T12:25:15.261935Z"
    }
   },
   "outputs": [],
   "source": [
    "# number of cases per province/state/city top 100 \n",
    "province_limit = 100 \n",
    "province_df = pd.DataFrame({'Province/State Name': unique_provinces[:province_limit], 'Country': province_country[:province_limit], 'Number of Confirmed Cases': [format(int(i), ',d') for i in province_confirmed_cases[:province_limit]],\n",
    "                          'Number of Deaths': [format(int(i), ',d') for i in province_death_cases[:province_limit]],'Number of Active Cases' : [format(int(i), ',d') for i in province_active[:province_limit]], \n",
    "                            'Incidence Rate' : province_incidence_rate[:province_limit], 'Mortality Rate': province_mortality_rate[:province_limit]})\n",
    "# number of cases per country/region\n",
    "\n",
    "province_df.style.background_gradient(cmap='Oranges')"
   ]
  },
  {
   "cell_type": "code",
   "execution_count": null,
   "metadata": {
    "_kg_hide-input": true,
    "execution": {
     "iopub.status.busy": "2021-06-10T12:25:15.263053Z",
     "iopub.status.idle": "2021-06-10T12:25:15.263674Z"
    }
   },
   "outputs": [],
   "source": [
    "# return the data table with province/state info for a given country\n",
    "def country_table(country_name):\n",
    "    states = list(latest_data[latest_data['Country_Region']==country_name]['Province_State'].unique())\n",
    "    state_confirmed_cases = []\n",
    "    state_death_cases = [] \n",
    "    # state_recovery_cases = []\n",
    "    state_active = [] \n",
    "    state_incidence_rate = [] \n",
    "    state_mortality_rate = [] \n",
    "\n",
    "    no_cases = [] \n",
    "    for i in states:\n",
    "        cases = latest_data[latest_data['Province_State']==i]['Confirmed'].sum()\n",
    "        if cases > 0:\n",
    "            state_confirmed_cases.append(cases)\n",
    "        else:\n",
    "            no_cases.append(i)\n",
    "\n",
    "    # remove areas with no confirmed cases\n",
    "    for i in no_cases:\n",
    "        states.remove(i)\n",
    "\n",
    "    states = [k for k, v in sorted(zip(states, state_confirmed_cases), key=operator.itemgetter(1), reverse=True)]\n",
    "    for i in range(len(states)):\n",
    "        state_confirmed_cases[i] = latest_data[latest_data['Province_State']==states[i]]['Confirmed'].sum()\n",
    "        state_death_cases.append(latest_data[latest_data['Province_State']==states[i]]['Deaths'].sum())\n",
    "    #     state_recovery_cases.append(latest_data[latest_data['Province_State']==states[i]]['Recovered'].sum())\n",
    "        state_active.append(latest_data[latest_data['Province_State']==states[i]]['Active'].sum())\n",
    "        state_incidence_rate.append(latest_data[latest_data['Province_State']==states[i]]['Incident_Rate'].sum())\n",
    "        state_mortality_rate.append(state_death_cases[i]/state_confirmed_cases[i])\n",
    "        \n",
    "      \n",
    "    state_df = pd.DataFrame({'State Name': states, 'Number of Confirmed Cases': [format(int(i), ',d') for i in state_confirmed_cases],\n",
    "                              'Number of Deaths': [format(int(i), ',d') for i in state_death_cases], 'Number of Active Cases' : [format(int(i), ',d') for i in state_active], \n",
    "                             'Incidence Rate' : state_incidence_rate, 'Mortality Rate': state_mortality_rate})\n",
    "    # number of cases per country/region\n",
    "    return state_df"
   ]
  },
  {
   "cell_type": "markdown",
   "metadata": {},
   "source": [
    "Data table for **India**"
   ]
  },
  {
   "cell_type": "code",
   "execution_count": null,
   "metadata": {
    "_kg_hide-input": true,
    "execution": {
     "iopub.status.busy": "2021-06-10T12:25:15.264787Z",
     "iopub.status.idle": "2021-06-10T12:25:15.265335Z"
    }
   },
   "outputs": [],
   "source": [
    "india_table = country_table('India')\n",
    "india_table.style.background_gradient(cmap='Oranges')"
   ]
  },
  {
   "cell_type": "markdown",
   "metadata": {},
   "source": [
    "Data table for the **United States**"
   ]
  },
  {
   "cell_type": "code",
   "execution_count": null,
   "metadata": {
    "_kg_hide-input": true,
    "execution": {
     "iopub.status.busy": "2021-06-10T12:25:15.266404Z",
     "iopub.status.idle": "2021-06-10T12:25:15.267118Z"
    }
   },
   "outputs": [],
   "source": [
    "us_table = country_table('US')\n",
    "us_table.style.background_gradient(cmap='Oranges')"
   ]
  },
  {
   "cell_type": "markdown",
   "metadata": {},
   "source": [
    "Data table for **Brazil**"
   ]
  },
  {
   "cell_type": "code",
   "execution_count": null,
   "metadata": {
    "_kg_hide-input": true,
    "execution": {
     "iopub.status.busy": "2021-06-10T12:25:15.268119Z",
     "iopub.status.idle": "2021-06-10T12:25:15.268855Z"
    }
   },
   "outputs": [],
   "source": [
    "brazil_table = country_table('Brazil')\n",
    "brazil_table.style.background_gradient(cmap='Oranges')"
   ]
  },
  {
   "cell_type": "markdown",
   "metadata": {},
   "source": [
    "Data table for **Russia**"
   ]
  },
  {
   "cell_type": "code",
   "execution_count": null,
   "metadata": {
    "_kg_hide-input": true,
    "execution": {
     "iopub.status.busy": "2021-06-10T12:25:15.269883Z",
     "iopub.status.idle": "2021-06-10T12:25:15.270399Z"
    }
   },
   "outputs": [],
   "source": [
    "russia_table = country_table('Russia')\n",
    "russia_table.style.background_gradient(cmap='Oranges')"
   ]
  },
  {
   "cell_type": "markdown",
   "metadata": {},
   "source": [
    "Data table for **United Kingdom**"
   ]
  },
  {
   "cell_type": "code",
   "execution_count": null,
   "metadata": {
    "_kg_hide-input": true,
    "execution": {
     "iopub.status.busy": "2021-06-10T12:25:15.27155Z",
     "iopub.status.idle": "2021-06-10T12:25:15.272171Z"
    }
   },
   "outputs": [],
   "source": [
    "uk_table = country_table('United Kingdom')\n",
    "uk_table.style.background_gradient(cmap='Oranges')"
   ]
  },
  {
   "cell_type": "markdown",
   "metadata": {},
   "source": [
    "Data table for **France**"
   ]
  },
  {
   "cell_type": "code",
   "execution_count": null,
   "metadata": {
    "_kg_hide-input": true,
    "execution": {
     "iopub.status.busy": "2021-06-10T12:25:15.273234Z",
     "iopub.status.idle": "2021-06-10T12:25:15.273941Z"
    }
   },
   "outputs": [],
   "source": [
    "france_table = country_table('France')\n",
    "france_table.style.background_gradient(cmap='Oranges')"
   ]
  },
  {
   "cell_type": "markdown",
   "metadata": {},
   "source": [
    "Data table for **Italy**"
   ]
  },
  {
   "cell_type": "code",
   "execution_count": null,
   "metadata": {
    "_kg_hide-input": true,
    "execution": {
     "iopub.status.busy": "2021-06-10T12:25:15.274922Z",
     "iopub.status.idle": "2021-06-10T12:25:15.275477Z"
    }
   },
   "outputs": [],
   "source": [
    "italy_table = country_table('Italy')\n",
    "italy_table.style.background_gradient(cmap='Oranges')"
   ]
  },
  {
   "cell_type": "markdown",
   "metadata": {},
   "source": [
    "Data table for **Spain**"
   ]
  },
  {
   "cell_type": "code",
   "execution_count": null,
   "metadata": {
    "_kg_hide-input": true,
    "execution": {
     "iopub.status.busy": "2021-06-10T12:25:15.276394Z",
     "iopub.status.idle": "2021-06-10T12:25:15.276929Z"
    }
   },
   "outputs": [],
   "source": [
    "spain_table = country_table('Spain')\n",
    "spain_table.style.background_gradient(cmap='Oranges')"
   ]
  },
  {
   "cell_type": "markdown",
   "metadata": {},
   "source": [
    "Data table for **Germany**"
   ]
  },
  {
   "cell_type": "code",
   "execution_count": null,
   "metadata": {
    "_kg_hide-input": true,
    "execution": {
     "iopub.status.busy": "2021-06-10T12:25:15.277893Z",
     "iopub.status.idle": "2021-06-10T12:25:15.278425Z"
    }
   },
   "outputs": [],
   "source": [
    "germany_table = country_table('Germany')\n",
    "germany_table.style.background_gradient(cmap='Oranges')"
   ]
  },
  {
   "cell_type": "markdown",
   "metadata": {},
   "source": [
    "Data table for **the Netherlands**"
   ]
  },
  {
   "cell_type": "code",
   "execution_count": null,
   "metadata": {
    "_kg_hide-input": true,
    "execution": {
     "iopub.status.busy": "2021-06-10T12:25:15.27933Z",
     "iopub.status.idle": "2021-06-10T12:25:15.27988Z"
    }
   },
   "outputs": [],
   "source": [
    "netherlands_table = country_table('Netherlands')\n",
    "netherlands_table.style.background_gradient(cmap='Oranges')"
   ]
  },
  {
   "cell_type": "markdown",
   "metadata": {},
   "source": [
    "Data table for **China**"
   ]
  },
  {
   "cell_type": "code",
   "execution_count": null,
   "metadata": {
    "_kg_hide-input": true,
    "execution": {
     "iopub.status.busy": "2021-06-10T12:25:15.280798Z",
     "iopub.status.idle": "2021-06-10T12:25:15.281316Z"
    }
   },
   "outputs": [],
   "source": [
    "china_table = country_table('China')\n",
    "china_table.style.background_gradient(cmap='Oranges')"
   ]
  },
  {
   "cell_type": "markdown",
   "metadata": {},
   "source": [
    "Data table for **Colombia**"
   ]
  },
  {
   "cell_type": "code",
   "execution_count": null,
   "metadata": {
    "_kg_hide-input": true,
    "execution": {
     "iopub.status.busy": "2021-06-10T12:25:15.282213Z",
     "iopub.status.idle": "2021-06-10T12:25:15.282747Z"
    }
   },
   "outputs": [],
   "source": [
    "colombia_table = country_table('Colombia')\n",
    "colombia_table.style.background_gradient(cmap='Oranges')"
   ]
  },
  {
   "cell_type": "markdown",
   "metadata": {},
   "source": [
    "Data table for **Mexico**"
   ]
  },
  {
   "cell_type": "code",
   "execution_count": null,
   "metadata": {
    "_kg_hide-input": true,
    "execution": {
     "iopub.status.busy": "2021-06-10T12:25:15.283675Z",
     "iopub.status.idle": "2021-06-10T12:25:15.284183Z"
    }
   },
   "outputs": [],
   "source": [
    "mexico_table = country_table('Mexico')\n",
    "mexico_table.style.background_gradient(cmap='Oranges')"
   ]
  },
  {
   "cell_type": "code",
   "execution_count": null,
   "metadata": {
    "_kg_hide-input": true,
    "execution": {
     "iopub.status.busy": "2021-06-10T12:25:15.285089Z",
     "iopub.status.idle": "2021-06-10T12:25:15.285629Z"
    }
   },
   "outputs": [],
   "source": [
    "total_world_cases = np.sum(country_confirmed_cases)\n",
    "us_confirmed = latest_data[latest_data['Country_Region']=='US']['Confirmed'].sum()\n",
    "outside_us_confirmed = total_world_cases - us_confirmed\n",
    "\n",
    "plt.figure(figsize=(16, 9))\n",
    "plt.barh('United States', us_confirmed)\n",
    "plt.barh('Outside United States', outside_us_confirmed)\n",
    "plt.title('# of Total Coronavirus Confirmed Cases', size=20)\n",
    "plt.xticks(size=20)\n",
    "plt.yticks(size=20)\n",
    "plt.show()\n",
    "\n",
    "\n",
    "plt.figure(figsize=(16, 9))\n",
    "plt.barh('United States', us_confirmed/total_world_cases)\n",
    "plt.barh('Outside United States', outside_us_confirmed/total_world_cases)\n",
    "plt.title('# of Coronavirus Confirmed Cases Expressed in Percentage', size=20)\n",
    "plt.xticks(size=20)\n",
    "plt.yticks(size=20)\n",
    "plt.show()"
   ]
  },
  {
   "cell_type": "code",
   "execution_count": null,
   "metadata": {
    "_kg_hide-input": true,
    "execution": {
     "iopub.status.busy": "2021-06-10T12:25:15.286548Z",
     "iopub.status.idle": "2021-06-10T12:25:15.28707Z"
    }
   },
   "outputs": [],
   "source": [
    "print('Outside United States {} cases ({}%):'.format(outside_us_confirmed, np.round((outside_us_confirmed/total_world_cases)*100, 1)))\n",
    "print('United States {} cases ({}%)'.format(us_confirmed, np.round((us_confirmed/total_world_cases)*100, 1)))\n",
    "print('Total: {} cases'.format(total_world_cases))"
   ]
  },
  {
   "cell_type": "code",
   "execution_count": null,
   "metadata": {
    "_kg_hide-input": true,
    "_kg_hide-output": true,
    "execution": {
     "iopub.status.busy": "2021-06-10T12:25:15.287972Z",
     "iopub.status.idle": "2021-06-10T12:25:15.288504Z"
    }
   },
   "outputs": [],
   "source": [
    "# Only show 10 countries with the most confirmed cases, the rest are grouped into the other category\n",
    "visual_unique_countries = [] \n",
    "visual_confirmed_cases = []\n",
    "others = np.sum(country_confirmed_cases[10:])\n",
    "\n",
    "for i in range(len(country_confirmed_cases[:10])):\n",
    "    visual_unique_countries.append(unique_countries[i])\n",
    "    visual_confirmed_cases.append(country_confirmed_cases[i])\n",
    "    \n",
    "visual_unique_countries.append('Others')\n",
    "visual_confirmed_cases.append(others)"
   ]
  },
  {
   "cell_type": "code",
   "execution_count": null,
   "metadata": {
    "_kg_hide-input": true,
    "_kg_hide-output": true,
    "execution": {
     "iopub.status.busy": "2021-06-10T12:25:15.28942Z",
     "iopub.status.idle": "2021-06-10T12:25:15.289949Z"
    }
   },
   "outputs": [],
   "source": [
    "def plot_bar_graphs(x, y, title):\n",
    "    plt.figure(figsize=(16, 12))\n",
    "    plt.barh(x, y)\n",
    "    plt.title(title, size=20)\n",
    "    plt.xticks(size=20)\n",
    "    plt.yticks(size=20)\n",
    "    plt.show()\n",
    "    \n",
    "# good for a lot x values \n",
    "def plot_bar_graphs_tall(x, y, title):\n",
    "    plt.figure(figsize=(19, 18))\n",
    "    plt.barh(x, y)\n",
    "    plt.title(title, size=25)\n",
    "    plt.xticks(size=25)\n",
    "    plt.yticks(size=25)\n",
    "    plt.show()"
   ]
  },
  {
   "cell_type": "code",
   "execution_count": null,
   "metadata": {
    "_kg_hide-input": true,
    "execution": {
     "iopub.status.busy": "2021-06-10T12:25:15.290874Z",
     "iopub.status.idle": "2021-06-10T12:25:15.29139Z"
    }
   },
   "outputs": [],
   "source": [
    "plot_bar_graphs(visual_unique_countries, visual_confirmed_cases, '# of Covid-19 Confirmed Cases in Countries/Regions')"
   ]
  },
  {
   "cell_type": "code",
   "execution_count": null,
   "metadata": {
    "_kg_hide-input": true,
    "_kg_hide-output": false,
    "execution": {
     "iopub.status.busy": "2021-06-10T12:25:15.292341Z",
     "iopub.status.idle": "2021-06-10T12:25:15.292866Z"
    }
   },
   "outputs": [],
   "source": [
    "log_country_confirmed_cases = [math.log10(i) for i in visual_confirmed_cases]\n",
    "plot_bar_graphs(visual_unique_countries, log_country_confirmed_cases, 'Common Log # of Coronavirus Confirmed Cases in Countries/Regions')"
   ]
  },
  {
   "cell_type": "code",
   "execution_count": null,
   "metadata": {
    "_kg_hide-input": true,
    "_kg_hide-output": true,
    "execution": {
     "iopub.status.busy": "2021-06-10T12:25:15.293798Z",
     "iopub.status.idle": "2021-06-10T12:25:15.294316Z"
    }
   },
   "outputs": [],
   "source": [
    "# Only show 10 provinces with the most confirmed cases, the rest are grouped into the other category\n",
    "visual_unique_provinces = [] \n",
    "visual_confirmed_cases2 = []\n",
    "others = np.sum(province_confirmed_cases[10:])\n",
    "for i in range(len(province_confirmed_cases[:10])):\n",
    "    visual_unique_provinces.append(unique_provinces[i])\n",
    "    visual_confirmed_cases2.append(province_confirmed_cases[i])\n",
    "\n",
    "visual_unique_provinces.append('Others')\n",
    "visual_confirmed_cases2.append(others)"
   ]
  },
  {
   "cell_type": "code",
   "execution_count": null,
   "metadata": {
    "_kg_hide-input": true,
    "execution": {
     "iopub.status.busy": "2021-06-10T12:25:15.295207Z",
     "iopub.status.idle": "2021-06-10T12:25:15.29571Z"
    }
   },
   "outputs": [],
   "source": [
    "plot_bar_graphs(visual_unique_provinces, visual_confirmed_cases2, '# of Coronavirus Confirmed Cases in Provinces/States')"
   ]
  },
  {
   "cell_type": "code",
   "execution_count": null,
   "metadata": {
    "_kg_hide-input": true,
    "_kg_hide-output": false,
    "execution": {
     "iopub.status.busy": "2021-06-10T12:25:15.296598Z",
     "iopub.status.idle": "2021-06-10T12:25:15.297091Z"
    }
   },
   "outputs": [],
   "source": [
    "log_province_confirmed_cases = [math.log10(i) for i in visual_confirmed_cases2]\n",
    "plot_bar_graphs(visual_unique_provinces, log_province_confirmed_cases, 'Log of # of Coronavirus Confirmed Cases in Provinces/States')"
   ]
  },
  {
   "cell_type": "markdown",
   "metadata": {},
   "source": [
    "<a id='pie_charts'></a>\n",
    "# Pie Chart Visualizations for COVID-19\n",
    "Although pie charts are not necessarily the most informative visualizations, I added them to increase some variety for the visualizations. "
   ]
  },
  {
   "cell_type": "code",
   "execution_count": null,
   "metadata": {
    "_kg_hide-input": true,
    "_kg_hide-output": true,
    "execution": {
     "iopub.status.busy": "2021-06-10T12:25:15.298145Z",
     "iopub.status.idle": "2021-06-10T12:25:15.298678Z"
    }
   },
   "outputs": [],
   "source": [
    "def plot_pie_charts(x, y, title):\n",
    "    # more muted color \n",
    "    c = ['lightcoral', 'rosybrown', 'sandybrown', 'navajowhite', 'gold',\n",
    "        'khaki', 'lightskyblue', 'turquoise', 'lightslategrey', 'thistle', 'pink']\n",
    "    plt.figure(figsize=(20,15))\n",
    "    plt.title(title, size=20)\n",
    "    plt.pie(y, colors=c,shadow=True, labels=y)\n",
    "    plt.legend(x, loc='best', fontsize=12)\n",
    "    plt.show()"
   ]
  },
  {
   "cell_type": "code",
   "execution_count": null,
   "metadata": {
    "_kg_hide-input": true,
    "execution": {
     "iopub.status.busy": "2021-06-10T12:25:15.2996Z",
     "iopub.status.idle": "2021-06-10T12:25:15.300138Z"
    }
   },
   "outputs": [],
   "source": [
    "plot_pie_charts(visual_unique_countries, visual_confirmed_cases, 'Covid-19 Confirmed Cases per Country')"
   ]
  },
  {
   "cell_type": "code",
   "execution_count": null,
   "metadata": {
    "_kg_hide-input": true,
    "execution": {
     "iopub.status.busy": "2021-06-10T12:25:15.301057Z",
     "iopub.status.idle": "2021-06-10T12:25:15.301579Z"
    }
   },
   "outputs": [],
   "source": [
    "plot_pie_charts(visual_unique_provinces, visual_confirmed_cases2, 'Covid-19 Confirmed Cases per State/Province/Region')"
   ]
  },
  {
   "cell_type": "code",
   "execution_count": null,
   "metadata": {
    "_kg_hide-input": true,
    "_kg_hide-output": true,
    "execution": {
     "iopub.status.busy": "2021-06-10T12:25:15.302491Z",
     "iopub.status.idle": "2021-06-10T12:25:15.302976Z"
    }
   },
   "outputs": [],
   "source": [
    "# Plotting countries with regional data using a pie chart \n",
    "\n",
    "def plot_pie_country_with_regions(country_name, title):\n",
    "    regions = list(latest_data[latest_data['Country_Region']==country_name]['Province_State'].unique())\n",
    "    confirmed_cases = []\n",
    "    no_cases = [] \n",
    "    for i in regions:\n",
    "        cases = latest_data[latest_data['Province_State']==i]['Confirmed'].sum()\n",
    "        if cases > 0:\n",
    "            confirmed_cases.append(cases)\n",
    "        else:\n",
    "            no_cases.append(i)\n",
    "\n",
    "    # remove areas with no confirmed cases\n",
    "    for i in no_cases:\n",
    "        regions.remove(i)\n",
    "\n",
    "    # only show the top 5 states\n",
    "    regions = [k for k, v in sorted(zip(regions, confirmed_cases), key=operator.itemgetter(1), reverse=True)]\n",
    "\n",
    "    for i in range(len(regions)):\n",
    "        confirmed_cases[i] = latest_data[latest_data['Province_State']==regions[i]]['Confirmed'].sum()  \n",
    "    \n",
    "    # additional province/state will be considered \"others\"\n",
    "    \n",
    "    if(len(regions)>5):\n",
    "        regions_5 = regions[:5]\n",
    "        regions_5.append('Others')\n",
    "        confirmed_cases_5 = confirmed_cases[:5]\n",
    "        confirmed_cases_5.append(np.sum(confirmed_cases[5:]))\n",
    "        plot_pie_charts(regions_5,confirmed_cases_5, title)\n",
    "    else:\n",
    "        plot_pie_charts(regions,confirmed_cases, title)"
   ]
  },
  {
   "cell_type": "code",
   "execution_count": null,
   "metadata": {
    "_kg_hide-input": true,
    "execution": {
     "iopub.status.busy": "2021-06-10T12:25:15.30403Z",
     "iopub.status.idle": "2021-06-10T12:25:15.304626Z"
    }
   },
   "outputs": [],
   "source": [
    "pie_chart_countries = ['US', 'Brazil', 'Russia', 'India', 'United Kingdom', 'Italy', 'Germany', 'France', 'Spain', 'Peru', 'Mexico', 'Canada', \n",
    "                       'Australia', 'China', 'Chile', 'Colombia', 'Netherlands']\n",
    "\n",
    "for i in pie_chart_countries:\n",
    "    plot_pie_country_with_regions(i, 'Covid-19 Confirmed Cases in {}'.format(i))"
   ]
  },
  {
   "cell_type": "markdown",
   "metadata": {},
   "source": [
    "<a id='hospital_testing'></a>\n",
    "# US Medical Data on Testing \n",
    "This gives us some information on US coronavirus testing, which is important for getting a clear picture of the pandemic."
   ]
  },
  {
   "cell_type": "code",
   "execution_count": null,
   "metadata": {
    "_kg_hide-input": true,
    "execution": {
     "iopub.status.busy": "2021-06-10T12:25:15.305661Z",
     "iopub.status.idle": "2021-06-10T12:25:15.306184Z"
    }
   },
   "outputs": [],
   "source": [
    "# Replace nan with 0\n",
    "us_medical_data.fillna(value=0, inplace=True)\n",
    "\n",
    "def plot_us_medical_data():\n",
    "    states = us_medical_data['Province_State'].unique()\n",
    "    testing_number = []\n",
    "    testing_rate = []\n",
    "    \n",
    "    for i in states:\n",
    "        testing_number.append(us_medical_data[us_medical_data['Province_State']==i]['Total_Test_Results'].sum())\n",
    "        testing_rate.append(us_medical_data[us_medical_data['Province_State']==i]['Testing_Rate'].max())\n",
    "    \n",
    "    # only show the top 15 states\n",
    "    testing_states = [k for k, v in sorted(zip(states, testing_number), key=operator.itemgetter(1), reverse=True)]\n",
    "    testing_rate_states = [k for k, v in sorted(zip(states, testing_rate), key=operator.itemgetter(1), reverse=True)]\n",
    "  \n",
    "    for i in range(len(states)):\n",
    "        testing_number[i] = us_medical_data[us_medical_data['Province_State']==testing_states[i]]['Total_Test_Results'].sum()\n",
    "        testing_rate[i] = us_medical_data[us_medical_data['Province_State']==testing_rate_states[i]]['Testing_Rate'].sum()\n",
    "    \n",
    "    top_limit = 30 \n",
    "    \n",
    "    plot_bar_graphs_tall(testing_states[:top_limit], testing_number[:top_limit], 'Total Testing per State (Top 30)')\n",
    "    plot_bar_graphs_tall(testing_rate_states[:top_limit], testing_rate[:top_limit], 'Testing Rate per 100,000 People (Top 30)')\n",
    " \n",
    "\n",
    "plot_us_medical_data()"
   ]
  },
  {
   "cell_type": "markdown",
   "metadata": {},
   "source": [
    "<a id='mobility_data'></a>\n",
    "# Taking a look at Apple's mobility data.\n",
    "It can help us understand the relationship between mobility and daily increases in coronavirus cases. The graphs below show the data for U.S. states and territories."
   ]
  },
  {
   "cell_type": "code",
   "execution_count": null,
   "metadata": {
    "_kg_hide-input": true,
    "execution": {
     "iopub.status.busy": "2021-06-10T12:25:15.307194Z",
     "iopub.status.idle": "2021-06-10T12:25:15.307767Z"
    }
   },
   "outputs": [],
   "source": [
    "def get_mobility_by_state(transport_type, state, day):\n",
    "    return apple_mobility[apple_mobility['sub-region']==state][apple_mobility['transportation_type']==transport_type].sum()[day]"
   ]
  },
  {
   "cell_type": "code",
   "execution_count": null,
   "metadata": {
    "_kg_hide-input": true,
    "_kg_hide-output": true,
    "execution": {
     "iopub.status.busy": "2021-06-10T12:25:15.308746Z",
     "iopub.status.idle": "2021-06-10T12:25:15.309373Z"
    }
   },
   "outputs": [],
   "source": [
    "apple_mobility.head()"
   ]
  },
  {
   "cell_type": "code",
   "execution_count": null,
   "metadata": {
    "_kg_hide-input": true,
    "_kg_hide-output": true,
    "execution": {
     "iopub.status.busy": "2021-06-10T12:25:15.310832Z",
     "iopub.status.idle": "2021-06-10T12:25:15.311557Z"
    }
   },
   "outputs": [],
   "source": [
    "# sample testing \n",
    "get_mobility_by_state('walking', 'Connecticut', '2020-07-30')"
   ]
  },
  {
   "cell_type": "code",
   "execution_count": null,
   "metadata": {
    "_kg_hide-input": true,
    "execution": {
     "iopub.status.busy": "2021-06-10T12:25:15.31281Z",
     "iopub.status.idle": "2021-06-10T12:25:15.313488Z"
    }
   },
   "outputs": [],
   "source": [
    "# revising date to fit with the mobility format \n",
    "revised_dates = []\n",
    "for i in range(len(dates)):\n",
    "    revised_dates.append(datetime.datetime.strptime(dates[i], '%m/%d/%y').strftime('%Y-%m-%d'))"
   ]
  },
  {
   "cell_type": "code",
   "execution_count": null,
   "metadata": {
    "_kg_hide-input": true,
    "execution": {
     "iopub.status.busy": "2021-06-10T12:25:15.314639Z",
     "iopub.status.idle": "2021-06-10T12:25:15.315311Z"
    }
   },
   "outputs": [],
   "source": [
    "# returns true if it is a weekend, and false if it is a weekday \n",
    "def weekday_or_weekend(date):\n",
    "    date_obj = datetime.datetime.strptime(date, '%Y-%m-%d')\n",
    "    day_of_the_week =  date_obj.weekday()\n",
    "    if (day_of_the_week+1) % 6 == 0 or (day_of_the_week+1) % 7 == 0:\n",
    "        return True \n",
    "    else:\n",
    "        return False "
   ]
  },
  {
   "cell_type": "code",
   "execution_count": null,
   "metadata": {
    "_kg_hide-input": true,
    "_kg_hide-output": true,
    "execution": {
     "iopub.status.busy": "2021-06-10T12:25:15.316367Z",
     "iopub.status.idle": "2021-06-10T12:25:15.316847Z"
    }
   },
   "outputs": [],
   "source": [
    "revised_day_since_1_22 = [i for i in range(len(revised_dates))]"
   ]
  },
  {
   "cell_type": "code",
   "execution_count": null,
   "metadata": {
    "_kg_hide-input": true,
    "execution": {
     "iopub.status.busy": "2021-06-10T12:25:15.317982Z",
     "iopub.status.idle": "2021-06-10T12:25:15.318934Z"
    }
   },
   "outputs": [],
   "source": [
    "import matplotlib.dates as mdates\n",
    "states = ['New York', 'Connecticut', 'Florida', 'California', 'Texas', 'Georgia', 'Arizona', 'Illinois', 'Louisiana', 'Ohio',\n",
    "          'Tennessee', 'North Carolina', 'South Carolina', 'Alabama', 'Missouri', 'Kansas', 'Pennsylvania', 'Wisconsin', 'Virginia', 'Massachusetts', 'Utah', 'Minnesota',\n",
    "         'Oklahoma', 'Iowa', 'Arkansas', 'Kentucky', 'Puerto Rico', 'Colorado', 'Idaho', 'New Jersey', 'Nevada', 'Maryland', 'Indiana', 'Washington', 'Montana', 'Rhode Island',\n",
    "         'New Mexico', 'Oregon', 'Vermont', 'North Dakota', 'New Hampshire']\n",
    "states.sort()\n",
    "\n",
    "# making sure the dates are in sync \n",
    "mobility_latest_date = apple_mobility.columns[-1]\n",
    "mobility_latest_index = revised_dates.index(mobility_latest_date)\n",
    "\n",
    "for state in states:\n",
    "    # weekend and weekday mobility are separated \n",
    "    weekday_mobility = []\n",
    "    weekday_mobility_dates = [] \n",
    "    weekend_mobility = [] \n",
    "    weekend_mobility_dates = [] \n",
    "    \n",
    "    for i in range(len(revised_dates)):\n",
    "        if i <= mobility_latest_index:\n",
    "            if weekday_or_weekend(revised_dates[i]):\n",
    "                weekend_mobility.append(get_mobility_by_state('walking', state, revised_dates[i]))\n",
    "                weekend_mobility_dates.append(i)\n",
    "            else:\n",
    "                weekday_mobility.append(get_mobility_by_state('walking', state, revised_dates[i]))\n",
    "                weekday_mobility_dates.append(i)\n",
    "        else:\n",
    "            pass\n",
    "        \n",
    "    # remove null values (they are counted as 0)\n",
    "    for i in range(len(weekend_mobility)):       \n",
    "        if weekend_mobility[i] == 0 and i != 0:\n",
    "            weekend_mobility[i] = weekend_mobility[i-1]\n",
    "        elif weekend_mobility[i] == 0 and i == 0:\n",
    "            weekend_mobility[i] = weekend_mobility[i+1]\n",
    "        else:\n",
    "            pass\n",
    "        \n",
    "    for i in range(len(weekday_mobility)):       \n",
    "        if weekday_mobility[i] == 0 and i != 0:\n",
    "            weekday_mobility[i] = weekday_mobility[i-1]\n",
    "        elif weekday_mobility[i] == 0 and i == 0:\n",
    "            weekday_mobility[i] = weekday_mobility[i+1]\n",
    "        else:\n",
    "            pass\n",
    "    \n",
    "    \n",
    "    weekday_mobility_average = moving_average(weekday_mobility, 7)\n",
    "    weekend_mobility_average = moving_average(weekend_mobility, 7)\n",
    "    \n",
    "    plt.figure(figsize=(16, 10))\n",
    "    plt.bar(weekday_mobility_dates, weekday_mobility, color='cornflowerblue')\n",
    "    plt.plot(weekday_mobility_dates, weekday_mobility_average, color='green')\n",
    "    \n",
    "    plt.bar(weekend_mobility_dates, weekend_mobility, color='salmon')\n",
    "    plt.plot(weekend_mobility_dates, weekend_mobility_average, color='black')\n",
    "    \n",
    "    plt.legend(['Moving average (7 days) weekday mobility', 'Moving Average (7 days) weekend mobility', 'Weekday mobility', 'Weekend mobility'], prop={'size': 25})\n",
    "    plt.title('{} Walking Mobility Data'.format(state), size=25)\n",
    "    plt.xlabel('Days since 1/22', size=25)\n",
    "    plt.ylabel('Mobility Value', size=25)\n",
    "    plt.xticks(size=25)\n",
    "    plt.yticks(size=25)\n",
    "    plt.show()"
   ]
  }
 ],
 "metadata": {
  "kernelspec": {
   "display_name": "Python 3",
   "language": "python",
   "name": "python3"
  },
  "language_info": {
   "codemirror_mode": {
    "name": "ipython",
    "version": 3
   },
   "file_extension": ".py",
   "mimetype": "text/x-python",
   "name": "python",
   "nbconvert_exporter": "python",
   "pygments_lexer": "ipython3",
   "version": "3.8.5"
  }
 },
 "nbformat": 4,
 "nbformat_minor": 4
}
